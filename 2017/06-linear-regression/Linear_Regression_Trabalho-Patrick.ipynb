{
 "cells": [
  {
   "cell_type": "markdown",
   "metadata": {},
   "source": [
    "# Regressão Linear Simples - Trabalho\n",
    "\n",
    "## Estudo de caso: Seguro de automóvel sueco\n",
    "\n",
    "Agora, sabemos como implementar um modelo de regressão linear simples. Vamos aplicá-lo ao conjunto de dados do seguro de automóveis sueco. Esta seção assume que você baixou o conjunto de dados para o arquivo insurance.csv, o qual está disponível no notebook respectivo.\n",
    "\n",
    "O conjunto de dados envolve a previsão do pagamento total de todas as reclamações em milhares de Kronor sueco, dado o número total de reclamações. É um dataset composto por 63 observações com 1 variável de entrada e 1 variável de saída. Os nomes das variáveis são os seguintes:\n",
    "\n",
    "1. Número de reivindicações.\n",
    "2. Pagamento total para todas as reclamações em milhares de Kronor sueco.\n",
    "\n",
    "Voce deve adicionar algumas funções acessórias à regressão linear simples. Especificamente, uma função para carregar o arquivo CSV chamado *load_csv ()*, uma função para converter um conjunto de dados carregado para números chamado *str_column_to_float ()*, uma função para avaliar um algoritmo usando um conjunto de treino e teste chamado *split_train_split ()*, a função para calcular RMSE chamado *rmse_metric ()* e uma função para avaliar um algoritmo chamado *evaluate_algorithm()*.\n",
    "\n",
    "Utilize um conjunto de dados de treinamento de 60% dos dados para preparar o modelo. As previsões devem ser feitas nos restantes 40%. \n",
    "\n",
    "Compare a performabce do seu algoritmo com o algoritmo baseline, o qual utiliza a média dos pagamentos realizados para realizar a predição ( a média é 72,251 mil Kronor).\n"
   ]
  },
  {
   "cell_type": "code",
   "execution_count": 1,
   "metadata": {
    "collapsed": true
   },
   "outputs": [],
   "source": [
    "import pandas as pd\n",
    "from sklearn.metrics import mean_squared_error\n",
    "from random import randrange\n",
    "from csv import reader\n",
    "from math import sqrt"
   ]
  },
  {
   "cell_type": "code",
   "execution_count": 4,
   "metadata": {},
   "outputs": [],
   "source": [
    "# Calculate the mean value of a list of numbers\n",
    "def mean(values):\n",
    "    return sum(values) / float(len(values))\n",
    "\n",
    "# Calculate the variance of a list of numbers\n",
    "def variance(values, mean):\n",
    "    return sum([(x-mean)**2 for x in values])\n",
    "\n",
    "# Calculate covariance between x and y\n",
    "def covariance(x, mean_x, y, mean_y):\n",
    "    covar = 0.0\n",
    "    for i in range(len(x)):\n",
    "        covar += (x[i] - mean_x) * (y[i] - mean_y)\n",
    "    return covar\n",
    "\n",
    "# Calculate coefficients\n",
    "def coefficients(dataset):\n",
    "    x = [row[0] for row in dataset]\n",
    "    y = [row[1] for row in dataset]\n",
    "    x_mean, y_mean = mean(x), mean(y)\n",
    "    b1 = covariance(x, x_mean, y, y_mean) / variance(x, x_mean)\n",
    "    b0 = y_mean - b1 * x_mean\n",
    "    return [b0, b1]\n",
    "\n",
    "def str_column_to_float(dataset):\n",
    "    for row in range(len(dataset)):\n",
    "        for column in range(len(dataset[row])):\n",
    "            dataset[row][column] = float(dataset[row][column])\n",
    "            \n",
    "def load_csv(filename):\n",
    "    dataset = list()\n",
    "    with open(filename, 'r') as file:\n",
    "        csv_reader = reader(file)\n",
    "        for row in csv_reader:\n",
    "            if not row:\n",
    "                continue\n",
    "            dataset.append(row)\n",
    "    return dataset\n",
    "\n",
    "\n",
    "def train_test_split(dataset, splitRatio):\n",
    "    train = list()\n",
    "    train_size = splitRatio * len(dataset)\n",
    "    dataset_copy = list(dataset)\n",
    "    while len(train) < train_size:\n",
    "        index = randrange(len(dataset_copy))\n",
    "        train.append(dataset_copy.pop(index))\n",
    "    return train, dataset_copy\n",
    "\n",
    "def rmse_metric(actual, predicted):\n",
    "    sum_error = 0.0\n",
    "    for i in range(len(actual)):\n",
    "        prediction_error = predicted[i] - actual[i]\n",
    "        sum_error += (prediction_error ** 2)\n",
    "    mean_error = sum_error / float(len(actual))\n",
    "    return sqrt(mean_error)\n",
    "\n",
    "def simple_linear_regression(train, test):\n",
    "    predictions = list()\n",
    "    b1, b0 = coefficients(train)\n",
    "    for row in test:\n",
    "        yhat = b1 + b0 * row[0]\n",
    "        predictions.append(yhat)\n",
    "    return predictions\n",
    "\n",
    "def evaluate_algorithm(dataset, algorithm, splitRatio, *args):\n",
    "    train, test = train_test_split(dataset, splitRatio)\n",
    "    test_set = list()\n",
    "    for row in test:\n",
    "        row_copy = list(row)\n",
    "        row_copy[-1] = None\n",
    "        test_set.append(row_copy)\n",
    "    predicted = algorithm(train, test_set, *args)\n",
    "    actual = [row[-1] for row in test]\n",
    "    rmse = rmse_metric(actual, predicted)\n",
    "    return rmse"
   ]
  },
  {
   "cell_type": "code",
   "execution_count": 5,
   "metadata": {},
   "outputs": [
    {
     "data": {
      "text/plain": [
       "[['108', '392.5'],\n",
       " ['19', '46.2'],\n",
       " ['13', '15.7'],\n",
       " ['124', '422.2'],\n",
       " ['40', '119.4'],\n",
       " ['57', '170.9'],\n",
       " ['23', '56.9'],\n",
       " ['14', '77.5'],\n",
       " ['45', '214'],\n",
       " ['10', '65.3'],\n",
       " ['5', '20.9'],\n",
       " ['48', '248.1'],\n",
       " ['11', '23.5'],\n",
       " ['23', '39.6'],\n",
       " ['7', '48.8'],\n",
       " ['2', '6.6'],\n",
       " ['24', '134.9'],\n",
       " ['6', '50.9'],\n",
       " ['3', '4.4'],\n",
       " ['23', '113'],\n",
       " ['6', '14.8'],\n",
       " ['9', '48.7'],\n",
       " ['9', '52.1'],\n",
       " ['3', '13.2'],\n",
       " ['29', '103.9'],\n",
       " ['7', '77.5'],\n",
       " ['4', '11.8'],\n",
       " ['20', '98.1'],\n",
       " ['7', '27.9'],\n",
       " ['4', '38.1'],\n",
       " ['0', '0'],\n",
       " ['25', '69.2'],\n",
       " ['6', '14.6'],\n",
       " ['5', '40.3'],\n",
       " ['22', '161.5'],\n",
       " ['11', '57.2'],\n",
       " ['61', '217.6'],\n",
       " ['12', '58.1'],\n",
       " ['4', '12.6'],\n",
       " ['16', '59.6'],\n",
       " ['13', '89.9'],\n",
       " ['60', '202.4'],\n",
       " ['41', '181.3'],\n",
       " ['37', '152.8'],\n",
       " ['55', '162.8'],\n",
       " ['41', '73.4'],\n",
       " ['11', '21.3'],\n",
       " ['27', '92.6'],\n",
       " ['8', '76.1'],\n",
       " ['3', '39.9'],\n",
       " ['17', '142.1'],\n",
       " ['13', '93'],\n",
       " ['13', '31.9'],\n",
       " ['15', '32.1'],\n",
       " ['8', '55.6'],\n",
       " ['29', '133.3'],\n",
       " ['30', '194.5'],\n",
       " ['24', '137.9'],\n",
       " ['9', '87.4'],\n",
       " ['31', '209.8'],\n",
       " ['14', '95.5'],\n",
       " ['53', '244.6'],\n",
       " ['26', '187.5']]"
      ]
     },
     "execution_count": 5,
     "metadata": {},
     "output_type": "execute_result"
    }
   ],
   "source": [
    "dataset = load_csv('insurance.csv')\n",
    "dataset  \n"
   ]
  },
  {
   "cell_type": "code",
   "execution_count": 6,
   "metadata": {},
   "outputs": [],
   "source": [
    "str_column_to_float(dataset)"
   ]
  },
  {
   "cell_type": "code",
   "execution_count": 7,
   "metadata": {},
   "outputs": [
    {
     "data": {
      "text/plain": [
       "[[108.0, 392.5],\n",
       " [19.0, 46.2],\n",
       " [13.0, 15.7],\n",
       " [124.0, 422.2],\n",
       " [40.0, 119.4],\n",
       " [57.0, 170.9],\n",
       " [23.0, 56.9],\n",
       " [14.0, 77.5],\n",
       " [45.0, 214.0],\n",
       " [10.0, 65.3],\n",
       " [5.0, 20.9],\n",
       " [48.0, 248.1],\n",
       " [11.0, 23.5],\n",
       " [23.0, 39.6],\n",
       " [7.0, 48.8],\n",
       " [2.0, 6.6],\n",
       " [24.0, 134.9],\n",
       " [6.0, 50.9],\n",
       " [3.0, 4.4],\n",
       " [23.0, 113.0],\n",
       " [6.0, 14.8],\n",
       " [9.0, 48.7],\n",
       " [9.0, 52.1],\n",
       " [3.0, 13.2],\n",
       " [29.0, 103.9],\n",
       " [7.0, 77.5],\n",
       " [4.0, 11.8],\n",
       " [20.0, 98.1],\n",
       " [7.0, 27.9],\n",
       " [4.0, 38.1],\n",
       " [0.0, 0.0],\n",
       " [25.0, 69.2],\n",
       " [6.0, 14.6],\n",
       " [5.0, 40.3],\n",
       " [22.0, 161.5],\n",
       " [11.0, 57.2],\n",
       " [61.0, 217.6],\n",
       " [12.0, 58.1],\n",
       " [4.0, 12.6],\n",
       " [16.0, 59.6],\n",
       " [13.0, 89.9],\n",
       " [60.0, 202.4],\n",
       " [41.0, 181.3],\n",
       " [37.0, 152.8],\n",
       " [55.0, 162.8],\n",
       " [41.0, 73.4],\n",
       " [11.0, 21.3],\n",
       " [27.0, 92.6],\n",
       " [8.0, 76.1],\n",
       " [3.0, 39.9],\n",
       " [17.0, 142.1],\n",
       " [13.0, 93.0],\n",
       " [13.0, 31.9],\n",
       " [15.0, 32.1],\n",
       " [8.0, 55.6],\n",
       " [29.0, 133.3],\n",
       " [30.0, 194.5],\n",
       " [24.0, 137.9],\n",
       " [9.0, 87.4],\n",
       " [31.0, 209.8],\n",
       " [14.0, 95.5],\n",
       " [53.0, 244.6],\n",
       " [26.0, 187.5]]"
      ]
     },
     "execution_count": 7,
     "metadata": {},
     "output_type": "execute_result"
    }
   ],
   "source": [
    "dataset"
   ]
  },
  {
   "cell_type": "code",
   "execution_count": 8,
   "metadata": {},
   "outputs": [
    {
     "name": "stdout",
     "output_type": "stream",
     "text": [
      "RMSE: 28.024\n"
     ]
    }
   ],
   "source": [
    "rmse = evaluate_algorithm(dataset, simple_linear_regression, 0.6)\n",
    "print('RMSE: %.3f' % (rmse))"
   ]
  },
  {
   "cell_type": "code",
   "execution_count": null,
   "metadata": {
    "collapsed": true
   },
   "outputs": [],
   "source": []
  }
 ],
 "metadata": {
  "kernelspec": {
   "display_name": "Python 3",
   "language": "python",
   "name": "python3"
  },
  "language_info": {
   "codemirror_mode": {
    "name": "ipython",
    "version": 3
   },
   "file_extension": ".py",
   "mimetype": "text/x-python",
   "name": "python",
   "nbconvert_exporter": "python",
   "pygments_lexer": "ipython3",
   "version": "3.6.2"
  }
 },
 "nbformat": 4,
 "nbformat_minor": 2
}
